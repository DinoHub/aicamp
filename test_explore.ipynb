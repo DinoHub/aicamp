{
 "cells": [
  {
   "cell_type": "code",
   "execution_count": 2,
   "metadata": {},
   "outputs": [
    {
     "name": "stderr",
     "output_type": "stream",
     "text": [
      "Using TensorFlow backend.\n"
     ]
    }
   ],
   "source": [
    "import os\n",
    "import numpy as np\n",
    "from matplotlib import pyplot as plt\n",
    "from keras.models import Model, load_model\n",
    "from keras.preprocessing.image import ImageDataGenerator\n",
    "from sklearn.metrics import confusion_matrix, classification_report"
   ]
  },
  {
   "cell_type": "code",
   "execution_count": 3,
   "metadata": {},
   "outputs": [],
   "source": [
    "from utils.preprocess_finder import finder"
   ]
  },
  {
   "cell_type": "code",
   "execution_count": 4,
   "metadata": {},
   "outputs": [],
   "source": [
    "test_dataset_path = '/media/dh/Data/AI_Camp/TIL2019_v0.1/test'\n",
    "model_path = '/home/dh/Workspace/aicamp/models/xception/xception_acc.hdf5'"
   ]
  },
  {
   "cell_type": "code",
   "execution_count": 5,
   "metadata": {},
   "outputs": [
    {
     "data": {
      "text/plain": [
       "'xception'"
      ]
     },
     "execution_count": 5,
     "metadata": {},
     "output_type": "execute_result"
    }
   ],
   "source": [
    "assert model_path.endswith('.hdf5')\n",
    "model_name = os.path.basename(model_path)\n",
    "context = model_name[:model_name.rfind('_')]\n",
    "context"
   ]
  },
  {
   "cell_type": "code",
   "execution_count": 6,
   "metadata": {},
   "outputs": [],
   "source": [
    "class_labels = sorted( list(os.listdir(test_dataset_path)) )"
   ]
  },
  {
   "cell_type": "code",
   "execution_count": 7,
   "metadata": {},
   "outputs": [
    {
     "data": {
      "text/plain": [
       "['ChairPose',\n",
       " 'ChestBump',\n",
       " 'ChildPose',\n",
       " 'Dabbing',\n",
       " 'EaglePose',\n",
       " 'HandGun',\n",
       " 'HandShake',\n",
       " 'HighKneel',\n",
       " 'HulkSmash',\n",
       " 'KoreanHeart',\n",
       " 'KungfuCrane',\n",
       " 'KungfuSalute',\n",
       " 'LeopardCrawl',\n",
       " 'Salute',\n",
       " 'Spiderman',\n",
       " 'WarriorPose']"
      ]
     },
     "execution_count": 7,
     "metadata": {},
     "output_type": "execute_result"
    }
   ],
   "source": [
    "class_labels"
   ]
  },
  {
   "cell_type": "code",
   "execution_count": 8,
   "metadata": {},
   "outputs": [],
   "source": [
    "target_size = (224,224)\n",
    "batch_size = 32"
   ]
  },
  {
   "cell_type": "code",
   "execution_count": 9,
   "metadata": {},
   "outputs": [],
   "source": [
    "model = load_model(model_path)"
   ]
  },
  {
   "cell_type": "code",
   "execution_count": 10,
   "metadata": {
    "scrolled": true
   },
   "outputs": [
    {
     "name": "stdout",
     "output_type": "stream",
     "text": [
      "----> USING xception native preprocessing\n",
      "Found 359 images belonging to 16 classes.\n",
      "Test set size: 359\n"
     ]
    }
   ],
   "source": [
    "test_gen = ImageDataGenerator(\n",
    "        preprocessing_function=finder(context),\n",
    "#         {'preprocessing_function': finder(''), \n",
    "#         rescale=1./255\n",
    "                )\n",
    "test_gen = test_gen.flow_from_directory(\n",
    "                                        test_dataset_path, \n",
    "                                        target_size = target_size,\n",
    "                                        batch_size = batch_size,\n",
    "                                        class_mode = 'categorical',\n",
    "                                        shuffle = False,\n",
    "                                        seed=19\n",
    "                                        )\n",
    "print('Test set size: {}'.format(test_gen.n))"
   ]
  },
  {
   "cell_type": "code",
   "execution_count": 11,
   "metadata": {},
   "outputs": [
    {
     "name": "stdout",
     "output_type": "stream",
     "text": [
      "12/12 [==============================] - 4s 312ms/step\n"
     ]
    },
    {
     "data": {
      "text/plain": [
       "(359, 16)"
      ]
     },
     "execution_count": 11,
     "metadata": {},
     "output_type": "execute_result"
    }
   ],
   "source": [
    "test_gen.reset()\n",
    "preds = model.predict_generator(test_gen, steps = test_gen.n//test_gen.batch_size+1, verbose=1)\n",
    "preds.shape"
   ]
  },
  {
   "cell_type": "code",
   "execution_count": 12,
   "metadata": {},
   "outputs": [
    {
     "data": {
      "text/plain": [
       "(359,)"
      ]
     },
     "execution_count": 12,
     "metadata": {},
     "output_type": "execute_result"
    }
   ],
   "source": [
    "preds_argmaxed = np.argmax(preds, axis=1)\n",
    "preds_argmaxed.shape"
   ]
  },
  {
   "cell_type": "code",
   "execution_count": 13,
   "metadata": {},
   "outputs": [],
   "source": [
    "labels = (test_gen.class_indices)\n",
    "labels = {v: k for k,v in labels.items()}\n",
    "preds_names = [labels[idx] for idx in preds_argmaxed]"
   ]
  },
  {
   "cell_type": "code",
   "execution_count": 14,
   "metadata": {},
   "outputs": [
    {
     "data": {
      "text/plain": [
       "['ChairPose',\n",
       " 'ChairPose',\n",
       " 'ChairPose',\n",
       " 'ChairPose',\n",
       " 'ChairPose',\n",
       " 'ChairPose',\n",
       " 'ChairPose',\n",
       " 'ChairPose',\n",
       " 'ChairPose',\n",
       " 'ChairPose',\n",
       " 'ChairPose',\n",
       " 'ChairPose',\n",
       " 'ChairPose',\n",
       " 'ChairPose',\n",
       " 'ChairPose',\n",
       " 'ChairPose',\n",
       " 'ChairPose',\n",
       " 'ChairPose',\n",
       " 'ChairPose',\n",
       " 'ChairPose',\n",
       " 'ChairPose',\n",
       " 'ChairPose',\n",
       " 'ChairPose',\n",
       " 'ChairPose',\n",
       " 'ChestBump',\n",
       " 'ChestBump',\n",
       " 'ChestBump',\n",
       " 'ChestBump',\n",
       " 'ChestBump',\n",
       " 'ChestBump',\n",
       " 'ChestBump',\n",
       " 'ChestBump',\n",
       " 'ChestBump',\n",
       " 'ChestBump',\n",
       " 'ChestBump',\n",
       " 'ChestBump',\n",
       " 'ChestBump',\n",
       " 'ChestBump',\n",
       " 'ChestBump',\n",
       " 'ChestBump',\n",
       " 'ChildPose',\n",
       " 'ChildPose',\n",
       " 'ChildPose',\n",
       " 'ChildPose',\n",
       " 'ChildPose',\n",
       " 'ChildPose',\n",
       " 'ChildPose',\n",
       " 'ChildPose',\n",
       " 'ChildPose',\n",
       " 'ChildPose',\n",
       " 'ChildPose',\n",
       " 'ChildPose',\n",
       " 'ChildPose',\n",
       " 'ChildPose',\n",
       " 'ChildPose',\n",
       " 'ChildPose',\n",
       " 'ChildPose',\n",
       " 'ChildPose',\n",
       " 'ChildPose',\n",
       " 'ChildPose',\n",
       " 'Dabbing',\n",
       " 'Dabbing',\n",
       " 'Dabbing',\n",
       " 'Dabbing',\n",
       " 'Dabbing',\n",
       " 'Dabbing',\n",
       " 'Dabbing',\n",
       " 'Dabbing',\n",
       " 'Dabbing',\n",
       " 'Dabbing',\n",
       " 'Dabbing',\n",
       " 'Dabbing',\n",
       " 'Dabbing',\n",
       " 'Dabbing',\n",
       " 'Dabbing',\n",
       " 'Dabbing',\n",
       " 'Dabbing',\n",
       " 'Dabbing',\n",
       " 'Dabbing',\n",
       " 'Dabbing',\n",
       " 'Dabbing',\n",
       " 'Dabbing',\n",
       " 'Dabbing',\n",
       " 'EaglePose',\n",
       " 'EaglePose',\n",
       " 'EaglePose',\n",
       " 'EaglePose',\n",
       " 'EaglePose',\n",
       " 'EaglePose',\n",
       " 'EaglePose',\n",
       " 'EaglePose',\n",
       " 'EaglePose',\n",
       " 'EaglePose',\n",
       " 'EaglePose',\n",
       " 'EaglePose',\n",
       " 'EaglePose',\n",
       " 'EaglePose',\n",
       " 'EaglePose',\n",
       " 'EaglePose',\n",
       " 'EaglePose',\n",
       " 'EaglePose',\n",
       " 'EaglePose',\n",
       " 'EaglePose',\n",
       " 'EaglePose',\n",
       " 'EaglePose',\n",
       " 'HandGun',\n",
       " 'HandGun',\n",
       " 'HandGun',\n",
       " 'HandGun',\n",
       " 'HandGun',\n",
       " 'HandGun',\n",
       " 'HandGun',\n",
       " 'HandGun',\n",
       " 'HandGun',\n",
       " 'HandGun',\n",
       " 'HandGun',\n",
       " 'HandGun',\n",
       " 'HandGun',\n",
       " 'HandGun',\n",
       " 'HandGun',\n",
       " 'HandGun',\n",
       " 'HandGun',\n",
       " 'HandGun',\n",
       " 'HandGun',\n",
       " 'HandGun',\n",
       " 'HandGun',\n",
       " 'HandGun',\n",
       " 'HandGun',\n",
       " 'HandGun',\n",
       " 'HandGun',\n",
       " 'HandGun',\n",
       " 'HandShake',\n",
       " 'HandShake',\n",
       " 'HandShake',\n",
       " 'HandShake',\n",
       " 'HandShake',\n",
       " 'HandShake',\n",
       " 'HandShake',\n",
       " 'HandShake',\n",
       " 'HandShake',\n",
       " 'HandShake',\n",
       " 'HandShake',\n",
       " 'HandShake',\n",
       " 'HandShake',\n",
       " 'HandShake',\n",
       " 'HandShake',\n",
       " 'HandShake',\n",
       " 'HandShake',\n",
       " 'HandShake',\n",
       " 'HandShake',\n",
       " 'HandShake',\n",
       " 'HandShake',\n",
       " 'HandShake',\n",
       " 'HighKneel',\n",
       " 'HighKneel',\n",
       " 'HighKneel',\n",
       " 'HighKneel',\n",
       " 'HighKneel',\n",
       " 'HighKneel',\n",
       " 'HighKneel',\n",
       " 'HighKneel',\n",
       " 'HighKneel',\n",
       " 'HighKneel',\n",
       " 'HighKneel',\n",
       " 'HighKneel',\n",
       " 'HighKneel',\n",
       " 'HighKneel',\n",
       " 'HighKneel',\n",
       " 'HighKneel',\n",
       " 'HighKneel',\n",
       " 'HighKneel',\n",
       " 'HighKneel',\n",
       " 'HighKneel',\n",
       " 'HighKneel',\n",
       " 'HighKneel',\n",
       " 'HulkSmash',\n",
       " 'HulkSmash',\n",
       " 'HulkSmash',\n",
       " 'HulkSmash',\n",
       " 'HulkSmash',\n",
       " 'HulkSmash',\n",
       " 'HulkSmash',\n",
       " 'HulkSmash',\n",
       " 'HulkSmash',\n",
       " 'HulkSmash',\n",
       " 'HulkSmash',\n",
       " 'HulkSmash',\n",
       " 'HulkSmash',\n",
       " 'HulkSmash',\n",
       " 'HulkSmash',\n",
       " 'HulkSmash',\n",
       " 'HulkSmash',\n",
       " 'HulkSmash',\n",
       " 'HulkSmash',\n",
       " 'HulkSmash',\n",
       " 'HulkSmash',\n",
       " 'HulkSmash',\n",
       " 'HulkSmash',\n",
       " 'HulkSmash',\n",
       " 'KoreanHeart',\n",
       " 'KoreanHeart',\n",
       " 'KoreanHeart',\n",
       " 'KoreanHeart',\n",
       " 'KoreanHeart',\n",
       " 'KoreanHeart',\n",
       " 'KoreanHeart',\n",
       " 'KoreanHeart',\n",
       " 'KoreanHeart',\n",
       " 'KoreanHeart',\n",
       " 'KoreanHeart',\n",
       " 'KoreanHeart',\n",
       " 'KoreanHeart',\n",
       " 'KoreanHeart',\n",
       " 'KoreanHeart',\n",
       " 'KoreanHeart',\n",
       " 'KoreanHeart',\n",
       " 'KoreanHeart',\n",
       " 'KoreanHeart',\n",
       " 'KoreanHeart',\n",
       " 'KoreanHeart',\n",
       " 'KoreanHeart',\n",
       " 'KungfuCrane',\n",
       " 'KungfuCrane',\n",
       " 'KungfuCrane',\n",
       " 'KungfuCrane',\n",
       " 'KungfuCrane',\n",
       " 'KungfuCrane',\n",
       " 'KungfuCrane',\n",
       " 'KungfuCrane',\n",
       " 'KungfuCrane',\n",
       " 'KungfuCrane',\n",
       " 'KungfuCrane',\n",
       " 'KungfuCrane',\n",
       " 'KungfuCrane',\n",
       " 'KungfuCrane',\n",
       " 'KungfuCrane',\n",
       " 'KungfuCrane',\n",
       " 'KungfuCrane',\n",
       " 'KungfuCrane',\n",
       " 'KungfuCrane',\n",
       " 'KungfuCrane',\n",
       " 'KungfuCrane',\n",
       " 'KungfuCrane',\n",
       " 'KungfuSalute',\n",
       " 'KungfuSalute',\n",
       " 'KungfuSalute',\n",
       " 'KungfuSalute',\n",
       " 'KungfuSalute',\n",
       " 'KungfuSalute',\n",
       " 'KungfuSalute',\n",
       " 'KungfuSalute',\n",
       " 'KungfuSalute',\n",
       " 'KungfuSalute',\n",
       " 'KungfuSalute',\n",
       " 'KungfuSalute',\n",
       " 'KungfuSalute',\n",
       " 'KungfuSalute',\n",
       " 'KungfuSalute',\n",
       " 'KungfuSalute',\n",
       " 'KungfuSalute',\n",
       " 'KungfuSalute',\n",
       " 'KungfuSalute',\n",
       " 'KungfuSalute',\n",
       " 'KungfuSalute',\n",
       " 'KungfuSalute',\n",
       " 'KungfuSalute',\n",
       " 'KungfuSalute',\n",
       " 'LeopardCrawl',\n",
       " 'LeopardCrawl',\n",
       " 'LeopardCrawl',\n",
       " 'LeopardCrawl',\n",
       " 'LeopardCrawl',\n",
       " 'LeopardCrawl',\n",
       " 'LeopardCrawl',\n",
       " 'LeopardCrawl',\n",
       " 'LeopardCrawl',\n",
       " 'LeopardCrawl',\n",
       " 'LeopardCrawl',\n",
       " 'LeopardCrawl',\n",
       " 'LeopardCrawl',\n",
       " 'LeopardCrawl',\n",
       " 'LeopardCrawl',\n",
       " 'LeopardCrawl',\n",
       " 'LeopardCrawl',\n",
       " 'LeopardCrawl',\n",
       " 'LeopardCrawl',\n",
       " 'LeopardCrawl',\n",
       " 'LeopardCrawl',\n",
       " 'Salute',\n",
       " 'Salute',\n",
       " 'Salute',\n",
       " 'Salute',\n",
       " 'Salute',\n",
       " 'Salute',\n",
       " 'Salute',\n",
       " 'Salute',\n",
       " 'Salute',\n",
       " 'Salute',\n",
       " 'Salute',\n",
       " 'Salute',\n",
       " 'Salute',\n",
       " 'Salute',\n",
       " 'Salute',\n",
       " 'Salute',\n",
       " 'Salute',\n",
       " 'Salute',\n",
       " 'Salute',\n",
       " 'Salute',\n",
       " 'Salute',\n",
       " 'Salute',\n",
       " 'Salute',\n",
       " 'Salute',\n",
       " 'Salute',\n",
       " 'Spiderman',\n",
       " 'Spiderman',\n",
       " 'Spiderman',\n",
       " 'Spiderman',\n",
       " 'Spiderman',\n",
       " 'Spiderman',\n",
       " 'Spiderman',\n",
       " 'Spiderman',\n",
       " 'Spiderman',\n",
       " 'Spiderman',\n",
       " 'Spiderman',\n",
       " 'Spiderman',\n",
       " 'Spiderman',\n",
       " 'Spiderman',\n",
       " 'Spiderman',\n",
       " 'Spiderman',\n",
       " 'Spiderman',\n",
       " 'Spiderman',\n",
       " 'Spiderman',\n",
       " 'Spiderman',\n",
       " 'Spiderman',\n",
       " 'Spiderman',\n",
       " 'Spiderman',\n",
       " 'WarriorPose',\n",
       " 'WarriorPose',\n",
       " 'WarriorPose',\n",
       " 'WarriorPose',\n",
       " 'WarriorPose',\n",
       " 'WarriorPose',\n",
       " 'WarriorPose',\n",
       " 'WarriorPose',\n",
       " 'WarriorPose',\n",
       " 'WarriorPose',\n",
       " 'WarriorPose',\n",
       " 'WarriorPose',\n",
       " 'WarriorPose',\n",
       " 'WarriorPose',\n",
       " 'WarriorPose',\n",
       " 'WarriorPose',\n",
       " 'WarriorPose',\n",
       " 'WarriorPose',\n",
       " 'WarriorPose',\n",
       " 'WarriorPose',\n",
       " 'WarriorPose',\n",
       " 'WarriorPose',\n",
       " 'WarriorPose']"
      ]
     },
     "execution_count": 14,
     "metadata": {},
     "output_type": "execute_result"
    }
   ],
   "source": [
    "gt_names = [labels[idx] for idx in test_gen.classes]\n",
    "gt_names"
   ]
  },
  {
   "cell_type": "code",
   "execution_count": 15,
   "metadata": {},
   "outputs": [
    {
     "data": {
      "image/png": "[encoded data removed]",
      "text/plain": [
       "<Figure size 864x864 with 1 Axes>"
      ]
     },
     "metadata": {
      "needs_background": "light"
     },
     "output_type": "display_data"
    }
   ],
   "source": [
    "confusion = confusion_matrix(gt_names, preds_names)\n",
    "NUM_LABELS = test_gen.n\n",
    "f, axes = plt.subplots(1,1, figsize = (12,12))\n",
    "axes.set_xlabel('Actual')\n",
    "axes.set_ylabel('Predicted')\n",
    "axes.grid(False)\n",
    "axes.set_xticklabels(class_labels, rotation = 90)\n",
    "axes.set_yticklabels(class_labels)\n",
    "axes.set_yticks(list(range(NUM_LABELS)))\n",
    "axes.set_xticks(list(range(NUM_LABELS)))\n",
    "axes.set_title('CM for {}'.format(model_name))\n",
    "plt.imshow(confusion, cmap=plt.cm.Set2, interpolation='nearest')\n",
    "\n",
    "for i, cas in enumerate(confusion):\n",
    "    for j, count in enumerate(cas):\n",
    "        if count > 0:\n",
    "            xoff = .07 * len(str(count))\n",
    "            plt.text(j-xoff, i+.2, int(count), fontsize=12, color='black')"
   ]
  },
  {
   "cell_type": "code",
   "execution_count": 16,
   "metadata": {},
   "outputs": [
    {
     "name": "stdout",
     "output_type": "stream",
     "text": [
      "              precision    recall  f1-score   support\n",
      "\n",
      "   ChairPose       0.64      0.58      0.61        24\n",
      "   ChestBump       0.88      0.94      0.91        16\n",
      "   ChildPose       0.90      0.95      0.93        20\n",
      "     Dabbing       0.76      0.83      0.79        23\n",
      "   EaglePose       0.69      0.50      0.58        22\n",
      "     HandGun       0.43      0.35      0.38        26\n",
      "   HandShake       1.00      0.91      0.95        22\n",
      "   HighKneel       0.85      1.00      0.92        22\n",
      "   HulkSmash       0.56      0.38      0.45        24\n",
      " KoreanHeart       0.91      0.95      0.93        22\n",
      " KungfuCrane       0.76      0.73      0.74        22\n",
      "KungfuSalute       0.62      0.62      0.62        24\n",
      "LeopardCrawl       0.86      0.90      0.88        21\n",
      "      Salute       0.62      1.00      0.77        25\n",
      "   Spiderman       0.82      0.61      0.70        23\n",
      " WarriorPose       0.79      0.96      0.86        23\n",
      "\n",
      "    accuracy                           0.75       359\n",
      "   macro avg       0.76      0.76      0.75       359\n",
      "weighted avg       0.75      0.75      0.74       359\n",
      "\n"
     ]
    }
   ],
   "source": [
    "print(classification_report(gt_names, preds_names))"
   ]
  },
  {
   "cell_type": "code",
   "execution_count": 35,
   "metadata": {},
   "outputs": [
    {
     "data": {
      "text/plain": [
       "[('HandShake', 0.9523809523809523),\n",
       " ('KoreanHeart', 0.9333333333333332),\n",
       " ('ChildPose', 0.9268292682926829),\n",
       " ('HighKneel', 0.9166666666666666),\n",
       " ('ChestBump', 0.9090909090909091),\n",
       " ('LeopardCrawl', 0.8837209302325582),\n",
       " ('WarriorPose', 0.8627450980392156),\n",
       " ('Dabbing', 0.7916666666666667),\n",
       " ('Salute', 0.7692307692307693),\n",
       " ('KungfuCrane', 0.7441860465116279),\n",
       " ('Spiderman', 0.7),\n",
       " ('KungfuSalute', 0.625),\n",
       " ('ChairPose', 0.6086956521739131),\n",
       " ('EaglePose', 0.5789473684210527),\n",
       " ('HulkSmash', 0.45),\n",
       " ('HandGun', 0.3829787234042554)]"
      ]
     },
     "execution_count": 35,
     "metadata": {},
     "output_type": "execute_result"
    }
   ],
   "source": [
    "from pprint import pprint\n",
    "class_report = classification_report(gt_names, preds_names, output_dict=True)\n",
    "f1_collate = []\n",
    "for pose in class_labels:\n",
    "    f1_collate.append((pose, class_report[pose]['f1-score']))\n",
    "f1_collate.sort(key=lambda x: x[1])\n",
    "f1_collate.reverse()\n",
    "f1_collate"
   ]
  },
  {
   "cell_type": "code",
   "execution_count": 132,
   "metadata": {},
   "outputs": [
    {
     "name": "stdout",
     "output_type": "stream",
     "text": [
      "12/12 [==============================] - 2s 185ms/step\n"
     ]
    },
    {
     "data": {
      "text/plain": [
       "[1.2490333507620939, 0.7520891364902507]"
      ]
     },
     "execution_count": 132,
     "metadata": {},
     "output_type": "execute_result"
    }
   ],
   "source": [
    "test_gen.reset()\n",
    "model.evaluate_generator(generator=test_gen, steps = test_gen.n//test_gen.batch_size+1, verbose = 1)"
   ]
  },
  {
   "cell_type": "code",
   "execution_count": null,
   "metadata": {},
   "outputs": [],
   "source": []
  }
 ],
 "metadata": {
  "kernelspec": {
   "display_name": "Python 3",
   "language": "python",
   "name": "python3"
  },
  "language_info": {
   "codemirror_mode": {
    "name": "ipython",
    "version": 3
   },
   "file_extension": ".py",
   "mimetype": "text/x-python",
   "name": "python",
   "nbconvert_exporter": "python",
   "pygments_lexer": "ipython3",
   "version": "3.5.2"
  }
 },
 "nbformat": 4,
 "nbformat_minor": 2
}
