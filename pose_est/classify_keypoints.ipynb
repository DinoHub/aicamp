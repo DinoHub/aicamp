{
 "cells": [
  {
   "cell_type": "code",
   "execution_count": 1,
   "metadata": {
    "collapsed": false
   },
   "outputs": [
    {
     "name": "stderr",
     "output_type": "stream",
     "text": [
      "/usr/local/lib/python3.5/dist-packages/h5py/__init__.py:36: FutureWarning: Conversion of the second argument of issubdtype from `float` to `np.floating` is deprecated. In future, it will be treated as `np.float64 == np.dtype(float).type`.\n",
      "  from ._conv import register_converters as _register_converters\n",
      "Using TensorFlow backend.\n",
      "/usr/local/lib/python3.5/dist-packages/sklearn/ensemble/weight_boosting.py:29: DeprecationWarning: numpy.core.umath_tests is an internal NumPy module and should not be imported. It will be removed in a future NumPy release.\n",
      "  from numpy.core.umath_tests import inner1d\n"
     ]
    }
   ],
   "source": [
    "import csv\n",
    "from sklearn.model_selection import train_test_split\n",
    "import pandas as pd\n",
    "import numpy as np\n",
    "from keras.models import Sequential\n",
    "from keras.layers import Dense, Activation, Flatten\n",
    "from sklearn.ensemble import RandomForestClassifier\n",
    "from sklearn.metrics import f1_score\n",
    "from sklearn.metrics import accuracy_score\n",
    "from keras.callbacks import ModelCheckpoint\n",
    "from sklearn.metrics import accuracy_score"
   ]
  },
  {
   "cell_type": "code",
   "execution_count": 2,
   "metadata": {
    "collapsed": true
   },
   "outputs": [],
   "source": [
    "csv_path = '/home/levan/Workspace/aicamp/pose_est/full_cropped_combined_keypoints.csv'"
   ]
  },
  {
   "cell_type": "code",
   "execution_count": 32,
   "metadata": {
    "collapsed": false
   },
   "outputs": [
    {
     "name": "stdout",
     "output_type": "stream",
     "text": [
      "Total data shape: (3839, 205)\n"
     ]
    },
    {
     "data": {
      "text/html": [
       "<div>\n",
       "<style scoped>\n",
       "    .dataframe tbody tr th:only-of-type {\n",
       "        vertical-align: middle;\n",
       "    }\n",
       "\n",
       "    .dataframe tbody tr th {\n",
       "        vertical-align: top;\n",
       "    }\n",
       "\n",
       "    .dataframe thead th {\n",
       "        text-align: right;\n",
       "    }\n",
       "</style>\n",
       "<table border=\"1\" class=\"dataframe\">\n",
       "  <thead>\n",
       "    <tr style=\"text-align: right;\">\n",
       "      <th></th>\n",
       "      <th>image_name</th>\n",
       "      <th>classname</th>\n",
       "      <th>image_width</th>\n",
       "      <th>image_height</th>\n",
       "      <th>body_kp0_x</th>\n",
       "      <th>body_kp0_y</th>\n",
       "      <th>body_kp0_conf</th>\n",
       "      <th>body_kp1_x</th>\n",
       "      <th>body_kp1_y</th>\n",
       "      <th>body_kp1_conf</th>\n",
       "      <th>...</th>\n",
       "      <th>righthand_kp17_conf</th>\n",
       "      <th>righthand_kp18_x</th>\n",
       "      <th>righthand_kp18_y</th>\n",
       "      <th>righthand_kp18_conf</th>\n",
       "      <th>righthand_kp19_x</th>\n",
       "      <th>righthand_kp19_y</th>\n",
       "      <th>righthand_kp19_conf</th>\n",
       "      <th>righthand_kp20_x</th>\n",
       "      <th>righthand_kp20_y</th>\n",
       "      <th>righthand_kp20_conf</th>\n",
       "    </tr>\n",
       "  </thead>\n",
       "  <tbody>\n",
       "    <tr>\n",
       "      <th>0</th>\n",
       "      <td>Salute_207_332.png</td>\n",
       "      <td>Salute</td>\n",
       "      <td>415</td>\n",
       "      <td>371</td>\n",
       "      <td>230.17348</td>\n",
       "      <td>114.315490</td>\n",
       "      <td>0.667645</td>\n",
       "      <td>214.08817</td>\n",
       "      <td>150.59085</td>\n",
       "      <td>0.791480</td>\n",
       "      <td>...</td>\n",
       "      <td>0.764242</td>\n",
       "      <td>37.581947</td>\n",
       "      <td>324.503230</td>\n",
       "      <td>0.793622</td>\n",
       "      <td>39.15378</td>\n",
       "      <td>328.432830</td>\n",
       "      <td>0.689169</td>\n",
       "      <td>40.725613</td>\n",
       "      <td>331.183530</td>\n",
       "      <td>0.387434</td>\n",
       "    </tr>\n",
       "    <tr>\n",
       "      <th>1</th>\n",
       "      <td>Salute_203_155.png</td>\n",
       "      <td>Salute</td>\n",
       "      <td>446</td>\n",
       "      <td>480</td>\n",
       "      <td>337.89365</td>\n",
       "      <td>121.382904</td>\n",
       "      <td>0.316033</td>\n",
       "      <td>287.43488</td>\n",
       "      <td>238.30900</td>\n",
       "      <td>0.669681</td>\n",
       "      <td>...</td>\n",
       "      <td>0.115584</td>\n",
       "      <td>277.852630</td>\n",
       "      <td>83.714070</td>\n",
       "      <td>0.079666</td>\n",
       "      <td>285.79733</td>\n",
       "      <td>86.362305</td>\n",
       "      <td>0.055519</td>\n",
       "      <td>293.742030</td>\n",
       "      <td>78.417595</td>\n",
       "      <td>0.024239</td>\n",
       "    </tr>\n",
       "    <tr>\n",
       "      <th>2</th>\n",
       "      <td>Salute_29_2074.png</td>\n",
       "      <td>Salute</td>\n",
       "      <td>310</td>\n",
       "      <td>356</td>\n",
       "      <td>0.00000</td>\n",
       "      <td>0.000000</td>\n",
       "      <td>0.000000</td>\n",
       "      <td>109.79304</td>\n",
       "      <td>182.39494</td>\n",
       "      <td>0.700209</td>\n",
       "      <td>...</td>\n",
       "      <td>0.533807</td>\n",
       "      <td>140.247530</td>\n",
       "      <td>66.710980</td>\n",
       "      <td>0.458098</td>\n",
       "      <td>131.83800</td>\n",
       "      <td>66.268370</td>\n",
       "      <td>0.295052</td>\n",
       "      <td>126.969330</td>\n",
       "      <td>67.153590</td>\n",
       "      <td>0.282552</td>\n",
       "    </tr>\n",
       "    <tr>\n",
       "      <th>3</th>\n",
       "      <td>Salute_14_2005.png</td>\n",
       "      <td>Salute</td>\n",
       "      <td>331</td>\n",
       "      <td>366</td>\n",
       "      <td>193.30597</td>\n",
       "      <td>98.864975</td>\n",
       "      <td>0.546601</td>\n",
       "      <td>179.46245</td>\n",
       "      <td>188.34996</td>\n",
       "      <td>0.712526</td>\n",
       "      <td>...</td>\n",
       "      <td>0.016344</td>\n",
       "      <td>210.275860</td>\n",
       "      <td>85.035310</td>\n",
       "      <td>0.015194</td>\n",
       "      <td>209.33020</td>\n",
       "      <td>87.399450</td>\n",
       "      <td>0.023483</td>\n",
       "      <td>209.330200</td>\n",
       "      <td>87.399450</td>\n",
       "      <td>0.013328</td>\n",
       "    </tr>\n",
       "    <tr>\n",
       "      <th>4</th>\n",
       "      <td>Salute_200_10.png</td>\n",
       "      <td>Salute</td>\n",
       "      <td>357</td>\n",
       "      <td>371</td>\n",
       "      <td>259.99146</td>\n",
       "      <td>89.706116</td>\n",
       "      <td>0.291182</td>\n",
       "      <td>246.79987</td>\n",
       "      <td>165.71474</td>\n",
       "      <td>0.691493</td>\n",
       "      <td>...</td>\n",
       "      <td>0.566209</td>\n",
       "      <td>192.352110</td>\n",
       "      <td>95.150566</td>\n",
       "      <td>0.598986</td>\n",
       "      <td>199.29472</td>\n",
       "      <td>93.299200</td>\n",
       "      <td>0.682596</td>\n",
       "      <td>205.311650</td>\n",
       "      <td>90.522160</td>\n",
       "      <td>0.389495</td>\n",
       "    </tr>\n",
       "  </tbody>\n",
       "</table>\n",
       "<p>5 rows × 205 columns</p>\n",
       "</div>"
      ],
      "text/plain": [
       "           image_name classname  image_width  image_height  body_kp0_x  \\\n",
       "0  Salute_207_332.png    Salute          415           371   230.17348   \n",
       "1  Salute_203_155.png    Salute          446           480   337.89365   \n",
       "2  Salute_29_2074.png    Salute          310           356     0.00000   \n",
       "3  Salute_14_2005.png    Salute          331           366   193.30597   \n",
       "4   Salute_200_10.png    Salute          357           371   259.99146   \n",
       "\n",
       "   body_kp0_y  body_kp0_conf  body_kp1_x  body_kp1_y  body_kp1_conf  \\\n",
       "0  114.315490       0.667645   214.08817   150.59085       0.791480   \n",
       "1  121.382904       0.316033   287.43488   238.30900       0.669681   \n",
       "2    0.000000       0.000000   109.79304   182.39494       0.700209   \n",
       "3   98.864975       0.546601   179.46245   188.34996       0.712526   \n",
       "4   89.706116       0.291182   246.79987   165.71474       0.691493   \n",
       "\n",
       "          ...           righthand_kp17_conf  righthand_kp18_x  \\\n",
       "0         ...                      0.764242         37.581947   \n",
       "1         ...                      0.115584        277.852630   \n",
       "2         ...                      0.533807        140.247530   \n",
       "3         ...                      0.016344        210.275860   \n",
       "4         ...                      0.566209        192.352110   \n",
       "\n",
       "   righthand_kp18_y  righthand_kp18_conf  righthand_kp19_x  righthand_kp19_y  \\\n",
       "0        324.503230             0.793622          39.15378        328.432830   \n",
       "1         83.714070             0.079666         285.79733         86.362305   \n",
       "2         66.710980             0.458098         131.83800         66.268370   \n",
       "3         85.035310             0.015194         209.33020         87.399450   \n",
       "4         95.150566             0.598986         199.29472         93.299200   \n",
       "\n",
       "   righthand_kp19_conf  righthand_kp20_x  righthand_kp20_y  \\\n",
       "0             0.689169         40.725613        331.183530   \n",
       "1             0.055519        293.742030         78.417595   \n",
       "2             0.295052        126.969330         67.153590   \n",
       "3             0.023483        209.330200         87.399450   \n",
       "4             0.682596        205.311650         90.522160   \n",
       "\n",
       "   righthand_kp20_conf  \n",
       "0             0.387434  \n",
       "1             0.024239  \n",
       "2             0.282552  \n",
       "3             0.013328  \n",
       "4             0.389495  \n",
       "\n",
       "[5 rows x 205 columns]"
      ]
     },
     "execution_count": 32,
     "metadata": {},
     "output_type": "execute_result"
    }
   ],
   "source": [
    "df = pd.read_csv(csv_path)\n",
    "print('Total data shape:', df.shape)\n",
    "df.head()"
   ]
  },
  {
   "cell_type": "code",
   "execution_count": 27,
   "metadata": {
    "collapsed": true
   },
   "outputs": [],
   "source": [
    "y = df['classname']\n",
    "X = df.drop(['image_name','classname'], axis = 1)"
   ]
  },
  {
   "cell_type": "code",
   "execution_count": 28,
   "metadata": {
    "collapsed": false
   },
   "outputs": [],
   "source": [
    "train_X, test_X, train_y, test_y = train_test_split(X, y, test_size=0.1, random_state=0)"
   ]
  },
  {
   "cell_type": "code",
   "execution_count": 79,
   "metadata": {
    "collapsed": false
   },
   "outputs": [],
   "source": [
    "rf_parameters = {'bootstrap': True,\n",
    "              'min_samples_leaf': 3,\n",
    "              'n_estimators': 400, \n",
    "              'min_samples_split': 10,\n",
    "              'max_features': None,\n",
    "#               'max_features': 'sqrt',\n",
    "              'max_depth': 30,\n",
    "              'max_leaf_nodes': None}\n",
    "RF_model = RandomForestClassifier(**rf_parameters)"
   ]
  },
  {
   "cell_type": "code",
   "execution_count": 80,
   "metadata": {
    "collapsed": false
   },
   "outputs": [
    {
     "data": {
      "text/plain": [
       "RandomForestClassifier(bootstrap=True, class_weight=None, criterion='gini',\n",
       "            max_depth=30, max_features=None, max_leaf_nodes=None,\n",
       "            min_impurity_decrease=0.0, min_impurity_split=None,\n",
       "            min_samples_leaf=3, min_samples_split=10,\n",
       "            min_weight_fraction_leaf=0.0, n_estimators=400, n_jobs=1,\n",
       "            oob_score=False, random_state=None, verbose=0,\n",
       "            warm_start=False)"
      ]
     },
     "execution_count": 80,
     "metadata": {},
     "output_type": "execute_result"
    }
   ],
   "source": [
    "RF_model.fit(train_X, train_y)"
   ]
  },
  {
   "cell_type": "code",
   "execution_count": 81,
   "metadata": {
    "collapsed": false
   },
   "outputs": [
    {
     "name": "stdout",
     "output_type": "stream",
     "text": [
      "0.6744791666666666\n"
     ]
    }
   ],
   "source": [
    "RF_predictions = RF_model.predict(test_X)\n",
    "score = accuracy_score(test_y ,RF_predictions)\n",
    "print(score)"
   ]
  },
  {
   "cell_type": "code",
   "execution_count": 82,
   "metadata": {
    "collapsed": true
   },
   "outputs": [],
   "source": [
    "from sklearn.metrics import confusion_matrix\n",
    "cm = confusion_matrix(test_y, RF_predictions)"
   ]
  },
  {
   "cell_type": "code",
   "execution_count": 94,
   "metadata": {
    "collapsed": false
   },
   "outputs": [
    {
     "data": {
      "text/plain": [
       "array(['ChairPose', 'ChestBump', 'ChildPose', 'Dabbing', 'EaglePose',\n",
       "       'HandGun', 'HandShake', 'Handshake', 'HighKneel', 'HulkSmash',\n",
       "       'KoreanHeart', 'KungfuCrane', 'KungfuSalute', 'LeopardCrawl',\n",
       "       'Salute', 'Spiderman', 'WarriorPose'], dtype=object)"
      ]
     },
     "execution_count": 94,
     "metadata": {},
     "output_type": "execute_result"
    }
   ],
   "source": [
    "RF_model.classes_"
   ]
  },
  {
   "cell_type": "code",
   "execution_count": null,
   "metadata": {
    "collapsed": false
   },
   "outputs": [],
   "source": [
    "%matplotlib inline\n",
    "from matplotlib import pyplot as plt\n",
    "NUM_LABELS = test_y.size\n",
    "f, axes = plt.subplots(1,1, figsize = (12,12))\n",
    "axes.set_xlabel('Actual')\n",
    "axes.set_ylabel('Predicted')\n",
    "axes.grid(False)\n",
    "axes.set_xticklabels(RF_model.classes_, rotation = 90)\n",
    "axes.set_yticklabels(RF_model.classes_)\n",
    "axes.set_yticks(list(range(NUM_LABELS)))\n",
    "axes.set_xticks(list(range(NUM_LABELS)))\n",
    "axes.set_title('Confusion Matrix')\n",
    "# axes.set_title('CM for {}'.format(model_name))\n",
    "plt.imshow(cm, cmap=plt.cm.Set2, interpolation='nearest')\n",
    "\n",
    "for i, cas in enumerate(cm):\n",
    "    for j, count in enumerate(cas):\n",
    "        if count > 0:\n",
    "            xoff = .07 * len(str(count))\n",
    "            plt.text(j-xoff, i+.2, int(count), fontsize=12, color='black')\n",
    "            \n",
    "print(classification_report(test_y, RF_predictions))  "
   ]
  },
  {
   "cell_type": "code",
   "execution_count": null,
   "metadata": {
    "collapsed": true
   },
   "outputs": [],
   "source": [
    "from sklearn.svm import SVC  \n",
    "svclassifier = SVC(kernel='linear', verbose=True)  "
   ]
  },
  {
   "cell_type": "code",
   "execution_count": null,
   "metadata": {
    "collapsed": false
   },
   "outputs": [],
   "source": [
    "svclassifier.fit(train_X, train_y)  "
   ]
  },
  {
   "cell_type": "code",
   "execution_count": null,
   "metadata": {
    "collapsed": true
   },
   "outputs": [],
   "source": [
    "SVM_predictions = svclassifier.predict(test_X)\n",
    "score = accuracy_score(test_y ,SVM_predictions)\n",
    "print(score)"
   ]
  },
  {
   "cell_type": "code",
   "execution_count": null,
   "metadata": {
    "collapsed": true
   },
   "outputs": [],
   "source": [
    "# %matplotlib inline\n",
    "# from matplotlib import pyplot as plt\n",
    "cm = confusion_matrix(test_y, SVM_predictions)\n",
    "NUM_LABELS = test_y.size\n",
    "f, axes = plt.subplots(1,1, figsize = (12,12))\n",
    "axes.set_xlabel('Actual')\n",
    "axes.set_ylabel('Predicted')\n",
    "axes.grid(False)\n",
    "axes.set_xticklabels(svclassifier.classes_, rotation = 90)\n",
    "axes.set_yticklabels(svclassifier.classes_)\n",
    "axes.set_yticks(list(range(NUM_LABELS)))\n",
    "axes.set_xticks(list(range(NUM_LABELS)))\n",
    "axes.set_title('Confusion Matrix')\n",
    "# axes.set_title('CM for {}'.format(model_name))\n",
    "plt.imshow(cm, cmap=plt.cm.Set2, interpolation='nearest')\n",
    "\n",
    "for i, cas in enumerate(cm):\n",
    "    for j, count in enumerate(cas):\n",
    "        if count > 0:\n",
    "            xoff = .07 * len(str(count))\n",
    "            plt.text(j-xoff, i+.2, int(count), fontsize=12, color='black')\n",
    "            \n",
    "print(classification_report(test_y, SVM_predictions))  "
   ]
  },
  {
   "cell_type": "code",
   "execution_count": null,
   "metadata": {
    "collapsed": true
   },
   "outputs": [],
   "source": []
  }
 ],
 "metadata": {
  "kernelspec": {
   "display_name": "Python 3",
   "language": "python",
   "name": "python3"
  },
  "language_info": {
   "codemirror_mode": {
    "name": "ipython",
    "version": 3
   },
   "file_extension": ".py",
   "mimetype": "text/x-python",
   "name": "python",
   "nbconvert_exporter": "python",
   "pygments_lexer": "ipython3",
   "version": "3.5.2"
  }
 },
 "nbformat": 4,
 "nbformat_minor": 2
}
